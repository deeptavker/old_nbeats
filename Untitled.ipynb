{
 "cells": [
  {
   "cell_type": "code",
   "execution_count": 3,
   "metadata": {},
   "outputs": [],
   "source": [
    "import torch as t\n",
    "x = t.rand((645,24))\n",
    "conv_inp = x.unsqueeze(1)\n",
    "convs = t.nn.Conv1d(1, 3, 5, 1, 2)\n",
    "out = convs(conv_inp)\n",
    "out = out.transpose(0,1)"
   ]
  },
  {
   "cell_type": "code",
   "execution_count": 2,
   "metadata": {},
   "outputs": [
    {
     "data": {
      "text/plain": [
       "tensor([[0.2349, 0.6469, 0.2204,  ..., 0.8851, 0.2096, 0.4752],\n",
       "        [0.9298, 0.7181, 0.1694,  ..., 0.8644, 0.1049, 0.4736],\n",
       "        [0.4488, 0.3925, 0.3230,  ..., 0.0926, 0.0437, 0.6641],\n",
       "        ...,\n",
       "        [0.1665, 0.0850, 0.2013,  ..., 0.1444, 0.7301, 0.5426],\n",
       "        [0.3689, 0.0817, 0.9158,  ..., 0.5526, 0.5594, 0.6644],\n",
       "        [0.8527, 0.8399, 0.6897,  ..., 0.1434, 0.9936, 0.0727]])"
      ]
     },
     "execution_count": 2,
     "metadata": {},
     "output_type": "execute_result"
    }
   ],
   "source": [
    "t.rand((645,24))"
   ]
  },
  {
   "cell_type": "code",
   "execution_count": 7,
   "metadata": {},
   "outputs": [],
   "source": [
    "x1, x2, x3 = out"
   ]
  },
  {
   "cell_type": "code",
   "execution_count": 8,
   "metadata": {},
   "outputs": [
    {
     "data": {
      "text/plain": [
       "torch.Size([645, 24])"
      ]
     },
     "execution_count": 8,
     "metadata": {},
     "output_type": "execute_result"
    }
   ],
   "source": [
    "x1.shape"
   ]
  },
  {
   "cell_type": "code",
   "execution_count": 9,
   "metadata": {},
   "outputs": [
    {
     "data": {
      "text/plain": [
       "'/Users/apple/acads/nbeats/N-BEATS'"
      ]
     },
     "execution_count": 9,
     "metadata": {},
     "output_type": "execute_result"
    }
   ],
   "source": [
    "pwd"
   ]
  },
  {
   "cell_type": "code",
   "execution_count": 10,
   "metadata": {},
   "outputs": [
    {
     "name": "stdout",
     "output_type": "stream",
     "text": [
      "LICENSE             __init__.py         mid_term_report.md  requirements.txt\r\n",
      "Makefile            \u001b[34mcommon\u001b[m\u001b[m/             \u001b[34mmodels\u001b[m\u001b[m/             \u001b[34mstorage\u001b[m\u001b[m/\r\n",
      "README.md           \u001b[34mdatasets\u001b[m\u001b[m/           nbeats.png          \u001b[34msummary\u001b[m\u001b[m/\r\n",
      "Untitled.ipynb      \u001b[34mexperiments\u001b[m\u001b[m/        \u001b[34mnotebooks\u001b[m\u001b[m/          \u001b[34mtest\u001b[m\u001b[m/\r\n"
     ]
    }
   ],
   "source": [
    "ls"
   ]
  },
  {
   "cell_type": "code",
   "execution_count": 11,
   "metadata": {},
   "outputs": [
    {
     "name": "stdout",
     "output_type": "stream",
     "text": [
      "/Users/apple/acads/nbeats/N-BEATS/storage\n"
     ]
    }
   ],
   "source": [
    "cd storage"
   ]
  },
  {
   "cell_type": "code",
   "execution_count": 12,
   "metadata": {},
   "outputs": [
    {
     "name": "stdout",
     "output_type": "stream",
     "text": [
      "\u001b[34mdatasets\u001b[m\u001b[m/    \u001b[34mexperiments\u001b[m\u001b[m/ \u001b[34mtest\u001b[m\u001b[m/\r\n"
     ]
    }
   ],
   "source": [
    "ls\n"
   ]
  },
  {
   "cell_type": "code",
   "execution_count": 13,
   "metadata": {},
   "outputs": [
    {
     "name": "stdout",
     "output_type": "stream",
     "text": [
      "/Users/apple/acads/nbeats/N-BEATS/storage/datasets\n"
     ]
    }
   ],
   "source": [
    "cd datasets"
   ]
  },
  {
   "cell_type": "code",
   "execution_count": 14,
   "metadata": {},
   "outputs": [
    {
     "name": "stdout",
     "output_type": "stream",
     "text": [
      "\u001b[34mm3\u001b[m\u001b[m/\r\n"
     ]
    }
   ],
   "source": [
    "ls"
   ]
  },
  {
   "cell_type": "code",
   "execution_count": 15,
   "metadata": {},
   "outputs": [
    {
     "name": "stdout",
     "output_type": "stream",
     "text": [
      "/Users/apple/acads/nbeats/N-BEATS/storage/datasets/m3\n"
     ]
    }
   ],
   "source": [
    "cd m3"
   ]
  },
  {
   "cell_type": "code",
   "execution_count": 16,
   "metadata": {},
   "outputs": [
    {
     "name": "stdout",
     "output_type": "stream",
     "text": [
      "M3C.xls       horizons.npy  test.npy\r\n",
      "groups.npy    ids.npy       training.npy\r\n"
     ]
    }
   ],
   "source": [
    "ls"
   ]
  },
  {
   "cell_type": "code",
   "execution_count": 17,
   "metadata": {},
   "outputs": [],
   "source": [
    "import numpy as np"
   ]
  },
  {
   "cell_type": "code",
   "execution_count": 20,
   "metadata": {},
   "outputs": [],
   "source": [
    "data = np.load('training.npy', allow_pickle=True)"
   ]
  },
  {
   "cell_type": "code",
   "execution_count": 30,
   "metadata": {},
   "outputs": [],
   "source": [
    "import pandas as pd"
   ]
  },
  {
   "cell_type": "code",
   "execution_count": 32,
   "metadata": {},
   "outputs": [],
   "source": [
    "data = pd.read_excel('M3C.xls')"
   ]
  },
  {
   "cell_type": "code",
   "execution_count": 43,
   "metadata": {},
   "outputs": [
    {
     "data": {
      "text/html": [
       "<div>\n",
       "<style scoped>\n",
       "    .dataframe tbody tr th:only-of-type {\n",
       "        vertical-align: middle;\n",
       "    }\n",
       "\n",
       "    .dataframe tbody tr th {\n",
       "        vertical-align: top;\n",
       "    }\n",
       "\n",
       "    .dataframe thead th {\n",
       "        text-align: right;\n",
       "    }\n",
       "</style>\n",
       "<table border=\"1\" class=\"dataframe\">\n",
       "  <thead>\n",
       "    <tr style=\"text-align: right;\">\n",
       "      <th></th>\n",
       "      <th>Series</th>\n",
       "      <th>N</th>\n",
       "      <th>NF</th>\n",
       "      <th>Category</th>\n",
       "      <th>Starting Year</th>\n",
       "      <th>Unnamed: 5</th>\n",
       "      <th>1</th>\n",
       "      <th>2</th>\n",
       "      <th>3</th>\n",
       "      <th>4</th>\n",
       "      <th>...</th>\n",
       "      <th>38</th>\n",
       "      <th>39</th>\n",
       "      <th>40</th>\n",
       "      <th>41</th>\n",
       "      <th>42</th>\n",
       "      <th>43</th>\n",
       "      <th>44</th>\n",
       "      <th>45</th>\n",
       "      <th>46</th>\n",
       "      <th>47</th>\n",
       "    </tr>\n",
       "  </thead>\n",
       "  <tbody>\n",
       "    <tr>\n",
       "      <th>0</th>\n",
       "      <td>N   1</td>\n",
       "      <td>20</td>\n",
       "      <td>6</td>\n",
       "      <td>MICRO</td>\n",
       "      <td>1975</td>\n",
       "      <td>1</td>\n",
       "      <td>940.66</td>\n",
       "      <td>1084.86</td>\n",
       "      <td>1244.98</td>\n",
       "      <td>1445.02</td>\n",
       "      <td>...</td>\n",
       "      <td>NaN</td>\n",
       "      <td>NaN</td>\n",
       "      <td>NaN</td>\n",
       "      <td>NaN</td>\n",
       "      <td>NaN</td>\n",
       "      <td>NaN</td>\n",
       "      <td>NaN</td>\n",
       "      <td>NaN</td>\n",
       "      <td>NaN</td>\n",
       "      <td>NaN</td>\n",
       "    </tr>\n",
       "    <tr>\n",
       "      <th>1</th>\n",
       "      <td>N   2</td>\n",
       "      <td>20</td>\n",
       "      <td>6</td>\n",
       "      <td>MICRO</td>\n",
       "      <td>1975</td>\n",
       "      <td>1</td>\n",
       "      <td>1991.05</td>\n",
       "      <td>2306.40</td>\n",
       "      <td>2604.00</td>\n",
       "      <td>2992.30</td>\n",
       "      <td>...</td>\n",
       "      <td>NaN</td>\n",
       "      <td>NaN</td>\n",
       "      <td>NaN</td>\n",
       "      <td>NaN</td>\n",
       "      <td>NaN</td>\n",
       "      <td>NaN</td>\n",
       "      <td>NaN</td>\n",
       "      <td>NaN</td>\n",
       "      <td>NaN</td>\n",
       "      <td>NaN</td>\n",
       "    </tr>\n",
       "    <tr>\n",
       "      <th>2</th>\n",
       "      <td>N   3</td>\n",
       "      <td>20</td>\n",
       "      <td>6</td>\n",
       "      <td>MICRO</td>\n",
       "      <td>1975</td>\n",
       "      <td>1</td>\n",
       "      <td>1461.57</td>\n",
       "      <td>1692.50</td>\n",
       "      <td>2193.82</td>\n",
       "      <td>2459.68</td>\n",
       "      <td>...</td>\n",
       "      <td>NaN</td>\n",
       "      <td>NaN</td>\n",
       "      <td>NaN</td>\n",
       "      <td>NaN</td>\n",
       "      <td>NaN</td>\n",
       "      <td>NaN</td>\n",
       "      <td>NaN</td>\n",
       "      <td>NaN</td>\n",
       "      <td>NaN</td>\n",
       "      <td>NaN</td>\n",
       "    </tr>\n",
       "    <tr>\n",
       "      <th>3</th>\n",
       "      <td>N   4</td>\n",
       "      <td>20</td>\n",
       "      <td>6</td>\n",
       "      <td>MICRO</td>\n",
       "      <td>1975</td>\n",
       "      <td>1</td>\n",
       "      <td>744.54</td>\n",
       "      <td>1105.16</td>\n",
       "      <td>1417.40</td>\n",
       "      <td>1838.04</td>\n",
       "      <td>...</td>\n",
       "      <td>NaN</td>\n",
       "      <td>NaN</td>\n",
       "      <td>NaN</td>\n",
       "      <td>NaN</td>\n",
       "      <td>NaN</td>\n",
       "      <td>NaN</td>\n",
       "      <td>NaN</td>\n",
       "      <td>NaN</td>\n",
       "      <td>NaN</td>\n",
       "      <td>NaN</td>\n",
       "    </tr>\n",
       "    <tr>\n",
       "      <th>4</th>\n",
       "      <td>N   5</td>\n",
       "      <td>20</td>\n",
       "      <td>6</td>\n",
       "      <td>MICRO</td>\n",
       "      <td>1975</td>\n",
       "      <td>1</td>\n",
       "      <td>4977.18</td>\n",
       "      <td>5248.00</td>\n",
       "      <td>5370.00</td>\n",
       "      <td>6184.89</td>\n",
       "      <td>...</td>\n",
       "      <td>NaN</td>\n",
       "      <td>NaN</td>\n",
       "      <td>NaN</td>\n",
       "      <td>NaN</td>\n",
       "      <td>NaN</td>\n",
       "      <td>NaN</td>\n",
       "      <td>NaN</td>\n",
       "      <td>NaN</td>\n",
       "      <td>NaN</td>\n",
       "      <td>NaN</td>\n",
       "    </tr>\n",
       "    <tr>\n",
       "      <th>...</th>\n",
       "      <td>...</td>\n",
       "      <td>...</td>\n",
       "      <td>...</td>\n",
       "      <td>...</td>\n",
       "      <td>...</td>\n",
       "      <td>...</td>\n",
       "      <td>...</td>\n",
       "      <td>...</td>\n",
       "      <td>...</td>\n",
       "      <td>...</td>\n",
       "      <td>...</td>\n",
       "      <td>...</td>\n",
       "      <td>...</td>\n",
       "      <td>...</td>\n",
       "      <td>...</td>\n",
       "      <td>...</td>\n",
       "      <td>...</td>\n",
       "      <td>...</td>\n",
       "      <td>...</td>\n",
       "      <td>...</td>\n",
       "      <td>...</td>\n",
       "    </tr>\n",
       "    <tr>\n",
       "      <th>640</th>\n",
       "      <td>N 641</td>\n",
       "      <td>36</td>\n",
       "      <td>6</td>\n",
       "      <td>OTHER</td>\n",
       "      <td>1811</td>\n",
       "      <td>1</td>\n",
       "      <td>5980.00</td>\n",
       "      <td>4970.00</td>\n",
       "      <td>5020.00</td>\n",
       "      <td>3820.00</td>\n",
       "      <td>...</td>\n",
       "      <td>NaN</td>\n",
       "      <td>NaN</td>\n",
       "      <td>NaN</td>\n",
       "      <td>NaN</td>\n",
       "      <td>NaN</td>\n",
       "      <td>NaN</td>\n",
       "      <td>NaN</td>\n",
       "      <td>NaN</td>\n",
       "      <td>NaN</td>\n",
       "      <td>NaN</td>\n",
       "    </tr>\n",
       "    <tr>\n",
       "      <th>641</th>\n",
       "      <td>N 642</td>\n",
       "      <td>36</td>\n",
       "      <td>6</td>\n",
       "      <td>OTHER</td>\n",
       "      <td>1847</td>\n",
       "      <td>1</td>\n",
       "      <td>4950.00</td>\n",
       "      <td>6610.00</td>\n",
       "      <td>6860.00</td>\n",
       "      <td>6460.00</td>\n",
       "      <td>...</td>\n",
       "      <td>NaN</td>\n",
       "      <td>NaN</td>\n",
       "      <td>NaN</td>\n",
       "      <td>NaN</td>\n",
       "      <td>NaN</td>\n",
       "      <td>NaN</td>\n",
       "      <td>NaN</td>\n",
       "      <td>NaN</td>\n",
       "      <td>NaN</td>\n",
       "      <td>NaN</td>\n",
       "    </tr>\n",
       "    <tr>\n",
       "      <th>642</th>\n",
       "      <td>N 643</td>\n",
       "      <td>36</td>\n",
       "      <td>6</td>\n",
       "      <td>OTHER</td>\n",
       "      <td>1883</td>\n",
       "      <td>1</td>\n",
       "      <td>5700.00</td>\n",
       "      <td>4420.00</td>\n",
       "      <td>5900.00</td>\n",
       "      <td>6810.00</td>\n",
       "      <td>...</td>\n",
       "      <td>NaN</td>\n",
       "      <td>NaN</td>\n",
       "      <td>NaN</td>\n",
       "      <td>NaN</td>\n",
       "      <td>NaN</td>\n",
       "      <td>NaN</td>\n",
       "      <td>NaN</td>\n",
       "      <td>NaN</td>\n",
       "      <td>NaN</td>\n",
       "      <td>NaN</td>\n",
       "    </tr>\n",
       "    <tr>\n",
       "      <th>643</th>\n",
       "      <td>N 644</td>\n",
       "      <td>36</td>\n",
       "      <td>6</td>\n",
       "      <td>OTHER</td>\n",
       "      <td>1919</td>\n",
       "      <td>1</td>\n",
       "      <td>6480.00</td>\n",
       "      <td>5470.00</td>\n",
       "      <td>2790.00</td>\n",
       "      <td>7570.00</td>\n",
       "      <td>...</td>\n",
       "      <td>NaN</td>\n",
       "      <td>NaN</td>\n",
       "      <td>NaN</td>\n",
       "      <td>NaN</td>\n",
       "      <td>NaN</td>\n",
       "      <td>NaN</td>\n",
       "      <td>NaN</td>\n",
       "      <td>NaN</td>\n",
       "      <td>NaN</td>\n",
       "      <td>NaN</td>\n",
       "    </tr>\n",
       "    <tr>\n",
       "      <th>644</th>\n",
       "      <td>N 645</td>\n",
       "      <td>38</td>\n",
       "      <td>6</td>\n",
       "      <td>OTHER</td>\n",
       "      <td>1955</td>\n",
       "      <td>1</td>\n",
       "      <td>6030.00</td>\n",
       "      <td>5070.00</td>\n",
       "      <td>5970.00</td>\n",
       "      <td>7870.00</td>\n",
       "      <td>...</td>\n",
       "      <td>4001.0</td>\n",
       "      <td>NaN</td>\n",
       "      <td>NaN</td>\n",
       "      <td>NaN</td>\n",
       "      <td>NaN</td>\n",
       "      <td>NaN</td>\n",
       "      <td>NaN</td>\n",
       "      <td>NaN</td>\n",
       "      <td>NaN</td>\n",
       "      <td>NaN</td>\n",
       "    </tr>\n",
       "  </tbody>\n",
       "</table>\n",
       "<p>645 rows × 53 columns</p>\n",
       "</div>"
      ],
      "text/plain": [
       "    Series   N  NF      Category  Starting Year  Unnamed: 5        1        2  \\\n",
       "0    N   1  20   6  MICRO                  1975           1   940.66  1084.86   \n",
       "1    N   2  20   6  MICRO                  1975           1  1991.05  2306.40   \n",
       "2    N   3  20   6  MICRO                  1975           1  1461.57  1692.50   \n",
       "3    N   4  20   6  MICRO                  1975           1   744.54  1105.16   \n",
       "4    N   5  20   6  MICRO                  1975           1  4977.18  5248.00   \n",
       "..     ...  ..  ..           ...            ...         ...      ...      ...   \n",
       "640  N 641  36   6  OTHER                  1811           1  5980.00  4970.00   \n",
       "641  N 642  36   6  OTHER                  1847           1  4950.00  6610.00   \n",
       "642  N 643  36   6  OTHER                  1883           1  5700.00  4420.00   \n",
       "643  N 644  36   6  OTHER                  1919           1  6480.00  5470.00   \n",
       "644  N 645  38   6  OTHER                  1955           1  6030.00  5070.00   \n",
       "\n",
       "           3        4  ...      38  39  40  41  42  43  44  45  46  47  \n",
       "0    1244.98  1445.02  ...     NaN NaN NaN NaN NaN NaN NaN NaN NaN NaN  \n",
       "1    2604.00  2992.30  ...     NaN NaN NaN NaN NaN NaN NaN NaN NaN NaN  \n",
       "2    2193.82  2459.68  ...     NaN NaN NaN NaN NaN NaN NaN NaN NaN NaN  \n",
       "3    1417.40  1838.04  ...     NaN NaN NaN NaN NaN NaN NaN NaN NaN NaN  \n",
       "4    5370.00  6184.89  ...     NaN NaN NaN NaN NaN NaN NaN NaN NaN NaN  \n",
       "..       ...      ...  ...     ...  ..  ..  ..  ..  ..  ..  ..  ..  ..  \n",
       "640  5020.00  3820.00  ...     NaN NaN NaN NaN NaN NaN NaN NaN NaN NaN  \n",
       "641  6860.00  6460.00  ...     NaN NaN NaN NaN NaN NaN NaN NaN NaN NaN  \n",
       "642  5900.00  6810.00  ...     NaN NaN NaN NaN NaN NaN NaN NaN NaN NaN  \n",
       "643  2790.00  7570.00  ...     NaN NaN NaN NaN NaN NaN NaN NaN NaN NaN  \n",
       "644  5970.00  7870.00  ...  4001.0 NaN NaN NaN NaN NaN NaN NaN NaN NaN  \n",
       "\n",
       "[645 rows x 53 columns]"
      ]
     },
     "execution_count": 43,
     "metadata": {},
     "output_type": "execute_result"
    }
   ],
   "source": [
    "data"
   ]
  },
  {
   "cell_type": "markdown",
   "metadata": {},
   "source": [
    "What is this. "
   ]
  },
  {
   "cell_type": "code",
   "execution_count": 44,
   "metadata": {},
   "outputs": [
    {
     "name": "stdout",
     "output_type": "stream",
     "text": [
      "M3C.xls       horizons.npy  test.npy\r\n",
      "groups.npy    ids.npy       training.npy\r\n"
     ]
    }
   ],
   "source": [
    "ls"
   ]
  },
  {
   "cell_type": "code",
   "execution_count": 48,
   "metadata": {},
   "outputs": [
    {
     "name": "stdout",
     "output_type": "stream",
     "text": [
      "[6 6 6 ... 8 8 8]\n"
     ]
    }
   ],
   "source": [
    "print(np.load('horizons.npy', allow_pickle=True))"
   ]
  },
  {
   "cell_type": "code",
   "execution_count": 51,
   "metadata": {},
   "outputs": [
    {
     "data": {
      "text/plain": [
       "128.0"
      ]
     },
     "execution_count": 51,
     "metadata": {},
     "output_type": "execute_result"
    }
   ],
   "source": [
    "1024 / 8"
   ]
  },
  {
   "cell_type": "code",
   "execution_count": null,
   "metadata": {},
   "outputs": [],
   "source": []
  }
 ],
 "metadata": {
  "kernelspec": {
   "display_name": "actualpy",
   "language": "python",
   "name": "actualpy"
  },
  "language_info": {
   "codemirror_mode": {
    "name": "ipython",
    "version": 3
   },
   "file_extension": ".py",
   "mimetype": "text/x-python",
   "name": "python",
   "nbconvert_exporter": "python",
   "pygments_lexer": "ipython3",
   "version": "3.7.9"
  }
 },
 "nbformat": 4,
 "nbformat_minor": 4
}
